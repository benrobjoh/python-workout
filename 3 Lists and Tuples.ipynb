{
 "cells": [
  {
   "cell_type": "markdown",
   "metadata": {},
   "source": [
    "# Python Workout\n",
    "## Chapter 3: Lists and tuples\n",
    "\n",
    "2021-01-18"
   ]
  },
  {
   "cell_type": "markdown",
   "metadata": {},
   "source": [
    "### 9 First-last"
   ]
  },
  {
   "cell_type": "code",
   "execution_count": 8,
   "metadata": {},
   "outputs": [
    {
     "name": "stdout",
     "output_type": "stream",
     "text": [
      "ac\n",
      "[1, 4]\n"
     ]
    }
   ],
   "source": [
    "def firstlast(sequence):\n",
    "    return sequence[0::len(sequence)-1]\n",
    "\n",
    "print(firstlast('abc'))\n",
    "print(firstlast([1,2,3,4]))"
   ]
  },
  {
   "cell_type": "markdown",
   "metadata": {},
   "source": [
    "### 10 Summing anything"
   ]
  },
  {
   "cell_type": "code",
   "execution_count": 10,
   "metadata": {},
   "outputs": [
    {
     "name": "stdout",
     "output_type": "stream",
     "text": [
      "abcdef\n",
      "[1, 2, 3, 4, 5, 6]\n",
      "6\n"
     ]
    }
   ],
   "source": [
    "def mysum(*args):\n",
    "    if not args:\n",
    "        return ()\n",
    "    total = args[0]\n",
    "    for item in args[1:]:\n",
    "        total += item\n",
    "    return total\n",
    "\n",
    "print(mysum('abc', 'def'))\n",
    "print(mysum([1,2,3], [4,5,6]))\n",
    "print(mysum(1,2,3))"
   ]
  },
  {
   "cell_type": "markdown",
   "metadata": {},
   "source": [
    "### 10 Alphabetizing names"
   ]
  },
  {
   "cell_type": "code",
   "execution_count": 2,
   "metadata": {},
   "outputs": [
    {
     "name": "stdout",
     "output_type": "stream",
     "text": [
      "[{'first': 'Reuven', 'last': 'Lerner', 'email': 'reuven@lerner.co.il'}, {'first': 'Vladimir', 'last': 'Putin', 'email': 'president@kremvax.ru'}, {'first': 'Donald', 'last': 'Trump', 'email': 'president@whitehouse.gov'}]\n"
     ]
    }
   ],
   "source": [
    "import operator\n",
    "\n",
    "PEOPLE = [\n",
    "    {'first':'Reuven', 'last':'Lerner',\n",
    "    'email':'reuven@lerner.co.il'},\n",
    "    {'first':'Donald', 'last':'Trump',\n",
    "    'email':'president@whitehouse.gov'},\n",
    "    {'first':'Vladimir', 'last':'Putin',\n",
    "    'email':'president@kremvax.ru'}\n",
    " ]\n",
    "\n",
    "def alphabetize_names(people):\n",
    "    return sorted(people, key=operator.itemgetter('last', 'first'))\n",
    "\n",
    "print(alphabetize_names(PEOPLE))"
   ]
  },
  {
   "cell_type": "markdown",
   "metadata": {},
   "source": [
    "### 12 Word with most repeated letters"
   ]
  },
  {
   "cell_type": "code",
   "execution_count": 5,
   "metadata": {},
   "outputs": [
    {
     "name": "stdout",
     "output_type": "stream",
     "text": [
      "elementary\n"
     ]
    }
   ],
   "source": [
    "from collections import Counter\n",
    "\n",
    "WORDS = ['this', 'is', 'an',\n",
    "         'elementary', 'test', 'example']\n",
    "\n",
    "def most_repeating_word(words):\n",
    "    return max(words, key=most_repeating_letter_count)\n",
    "\n",
    "def most_repeating_letter_count(word):\n",
    "    return Counter(word).most_common(1)[0][1]\n",
    "\n",
    "print(most_repeating_word(WORDS))"
   ]
  },
  {
   "cell_type": "markdown",
   "metadata": {},
   "source": [
    "### 13 Printing tuple records"
   ]
  },
  {
   "cell_type": "code",
   "execution_count": 9,
   "metadata": {},
   "outputs": [
    {
     "name": "stdout",
     "output_type": "stream",
     "text": [
      "Putin      Vladimir    3.63\n",
      "Trump      Donald      7.85\n",
      "Xi         Jinping    10.60\n",
      "None\n"
     ]
    }
   ],
   "source": [
    "PEOPLE = [\n",
    "        ('Donald', 'Trump', 7.85),\n",
    "        ('Vladimir', 'Putin', 3.626),\n",
    "        ('Jinping', 'Xi', 10.603)\n",
    "    ]\n",
    "def format_sort_records(people):\n",
    "    sorted_records = sorted(people, key=operator.itemgetter(1, 0))\n",
    "    for person in sorted_records:\n",
    "        print(f'{person[1]:<10} {person[0]:<10} {person[2]:5.2f}')\n",
    "\n",
    "print(format_sort_records(PEOPLE))"
   ]
  }
 ],
 "metadata": {
  "kernelspec": {
   "display_name": "Python 3",
   "language": "python",
   "name": "python3"
  },
  "language_info": {
   "codemirror_mode": {
    "name": "ipython",
    "version": 3
   },
   "file_extension": ".py",
   "mimetype": "text/x-python",
   "name": "python",
   "nbconvert_exporter": "python",
   "pygments_lexer": "ipython3",
   "version": "3.9.1"
  },
  "orig_nbformat": 2
 },
 "nbformat": 4,
 "nbformat_minor": 2
}