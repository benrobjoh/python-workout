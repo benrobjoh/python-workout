{
 "cells": [
  {
   "cell_type": "markdown",
   "metadata": {},
   "source": [
    "# Python Workout\n",
    "## Chapter 6: Functions\n",
    "\n",
    "2021-01-23"
   ]
  },
  {
   "cell_type": "markdown",
   "metadata": {},
   "source": [
    "### 25 XML Generator"
   ]
  },
  {
   "cell_type": "code",
   "execution_count": 2,
   "metadata": {},
   "outputs": [
    {
     "data": {
      "text/plain": "'<foo a=\"1\" b=\"2\" c=\"3\">bar</foo>'"
     },
     "execution_count": 2,
     "metadata": {},
     "output_type": "execute_result"
    }
   ],
   "source": [
    "def myxml(tag, content='', **kwargs):\n",
    "    attributes = ''.join([f' {key}=\"{value}\"' for key, value in kwargs.items()])\n",
    "    return f'<{tag}{attributes}>{content}</{tag}>'\n",
    "\n",
    "myxml('foo', 'bar', a=1, b=2, c=3)"
   ]
  },
  {
   "cell_type": "markdown",
   "metadata": {},
   "source": [
    "### 26 Prefix notation calculator"
   ]
  },
  {
   "cell_type": "code",
   "execution_count": 6,
   "metadata": {},
   "outputs": [
    {
     "data": {
      "text/plain": "3.0"
     },
     "execution_count": 6,
     "metadata": {},
     "output_type": "execute_result"
    }
   ],
   "source": [
    "import operator\n",
    "\n",
    "def calc(prefix):\n",
    "  translation = {\n",
    "      '+': operator.add,\n",
    "      '-': operator.sub,\n",
    "      '*': operator.mul,\n",
    "      '/': operator.truediv,\n",
    "      '**': operator.pow,\n",
    "      '%': operator.mod\n",
    "  }\n",
    "  operation, first, second = prefix.split()\n",
    "  return translation[operation](float(first), float(second))\n",
    "\n",
    "calc('+ 1 2')"
   ]
  },
  {
   "cell_type": "markdown",
   "metadata": {},
   "source": [
    "### 27 Password generator"
   ]
  },
  {
   "cell_type": "code",
   "execution_count": 18,
   "metadata": {},
   "outputs": [
    {
     "name": "stdout",
     "output_type": "stream",
     "text": [
      "edeaaebfff\n"
     ]
    }
   ],
   "source": [
    "import random\n",
    "\n",
    "def create_password_generator(text):\n",
    "    def generate_password(length):\n",
    "        return ''.join([random.choice(text) for i in range(length)])\n",
    "    return generate_password\n",
    "\n",
    "print(create_password_generator('abcdef')(10))"
   ]
  }
 ],
 "metadata": {
  "kernelspec": {
   "display_name": "Python 3",
   "language": "python",
   "name": "python3"
  },
  "language_info": {
   "codemirror_mode": {
    "name": "ipython",
    "version": 3
   },
   "file_extension": ".py",
   "mimetype": "text/x-python",
   "name": "python",
   "nbconvert_exporter": "python",
   "pygments_lexer": "ipython3",
   "version": "3.9.1"
  },
  "orig_nbformat": 2
 },
 "nbformat": 4,
 "nbformat_minor": 2
}