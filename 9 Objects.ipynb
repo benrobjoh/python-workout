{
 "cells": [
  {
   "cell_type": "markdown",
   "metadata": {},
   "source": [
    "# Python Workout\n",
    "## Chapter 9: Objects\n",
    "\n",
    "2021-01-24"
   ]
  },
  {
   "cell_type": "markdown",
   "metadata": {},
   "source": [
    "### 38 Ice cream scoop"
   ]
  },
  {
   "cell_type": "code",
   "execution_count": 3,
   "metadata": {},
   "outputs": [
    {
     "name": "stdout",
     "output_type": "stream",
     "text": [
      "chocolate\n",
      "vanilla\n",
      "persimmon\n"
     ]
    }
   ],
   "source": [
    "class Scoop:\n",
    "    def __init__(self, flavor):\n",
    "        self.flavor = flavor\n",
    "\n",
    "def generate_scoops():\n",
    "    scoops = [Scoop(flavor) for flavor in ('chocolate', 'vanilla', 'persimmon')]\n",
    "    for scoop in scoops:\n",
    "        print(scoop.flavor)\n",
    "\n",
    "generate_scoops()"
   ]
  },
  {
   "cell_type": "markdown",
   "metadata": {},
   "source": [
    "### 39 Ice cream bowl"
   ]
  },
  {
   "cell_type": "code",
   "execution_count": 18,
   "metadata": {},
   "outputs": [
    {
     "name": "stdout",
     "output_type": "stream",
     "text": [
      "chocolate\n",
      "vanilla\n",
      "persimmon\n"
     ]
    }
   ],
   "source": [
    "class Bowl:\n",
    "    def __init__(self):\n",
    "        self.scoops = []\n",
    "\n",
    "    def add_scoops(self, *new_scoops):\n",
    "        self.scoops += new_scoops\n",
    "    \n",
    "    def __repr__(self):\n",
    "        return '\\n'.join(name.flavor for name in self.scoops)\n",
    "\n",
    "s1 = Scoop('chocolate')\n",
    "s2 = Scoop('vanilla')\n",
    "s3 = Scoop('persimmon')\n",
    " \n",
    "b = Bowl()\n",
    "b.add_scoops(s1, s2)\n",
    "b.add_scoops(s3)\n",
    "print(b)"
   ]
  },
  {
   "cell_type": "markdown",
   "metadata": {},
   "source": [
    "### 40 Bowl limits"
   ]
  },
  {
   "cell_type": "code",
   "execution_count": 22,
   "metadata": {},
   "outputs": [
    {
     "name": "stdout",
     "output_type": "stream",
     "text": [
      "chocolate\n",
      "vanilla\n",
      "persimmon\n"
     ]
    }
   ],
   "source": [
    "class Bowl:\n",
    "    max_scoops = 3\n",
    "\n",
    "    def __init__(self):\n",
    "        self.scoops = []\n",
    "\n",
    "    def add_scoops(self, *new_scoops):\n",
    "        for scoop in new_scoops:\n",
    "            if len(self.scoops) < self.max_scoops:\n",
    "                self.scoops.append(scoop)\n",
    "    \n",
    "    def __repr__(self):\n",
    "        return '\\n'.join(name.flavor for name in self.scoops)\n",
    "\n",
    "s1 = Scoop('chocolate')\n",
    "s2 = Scoop('vanilla')\n",
    "s3 = Scoop('persimmon')\n",
    "s4 = Scoop('flavor 4')\n",
    "s5 = Scoop('flavor 5')\n",
    " \n",
    "b = Bowl()\n",
    "b.add_scoops(s1, s2)\n",
    "b.add_scoops(s3)\n",
    "b.add_scoops(s4, s5)\n",
    "print(b)"
   ]
  },
  {
   "cell_type": "code",
   "execution_count": 20,
   "metadata": {},
   "outputs": [],
   "source": [
    "### 41 A bigger bowl"
   ]
  },
  {
   "cell_type": "code",
   "execution_count": 23,
   "metadata": {},
   "outputs": [
    {
     "name": "stdout",
     "output_type": "stream",
     "text": [
      "chocolate\n",
      "vanilla\n",
      "persimmon\n",
      "flavor 4\n",
      "flavor 5\n"
     ]
    }
   ],
   "source": [
    "class BigBowl(Bowl):\n",
    "    max_scoops = 5\n",
    "\n",
    "b = BigBowl()\n",
    "b.add_scoops(s1, s2)\n",
    "b.add_scoops(s3)\n",
    "b.add_scoops(s4, s5)\n",
    "print(b)"
   ]
  },
  {
   "cell_type": "markdown",
   "metadata": {},
   "source": [
    "### 42 FlexibleDict"
   ]
  },
  {
   "cell_type": "code",
   "execution_count": 26,
   "metadata": {},
   "outputs": [
    {
     "name": "stdout",
     "output_type": "stream",
     "text": [
      "100\n",
      "500\n",
      "100\n",
      "100\n"
     ]
    }
   ],
   "source": [
    "class FlexibleDict(dict):\n",
    "    def __getitem__(self, key):\n",
    "        try:\n",
    "            if key in self:\n",
    "                pass\n",
    "            elif str(key) in self:\n",
    "                key = str(key)\n",
    "            elif int(key) in self:\n",
    "                key = int(key)\n",
    "        except ValueError:\n",
    "            pass\n",
    "        return dict.__getitem__(self, key)\n",
    "\n",
    "fd = FlexibleDict()\n",
    " \n",
    "fd['a'] = 100\n",
    "print(fd['a'])\n",
    " \n",
    "fd[5] = 500\n",
    "print(fd[5])\n",
    " \n",
    "fd[1] = 100\n",
    "print(fd['1'])\n",
    " \n",
    "fd['1'] = 100\n",
    "print(fd[1])\n"
   ]
  },
  {
   "cell_type": "markdown",
   "metadata": {},
   "source": [
    "### 43 Animals"
   ]
  },
  {
   "cell_type": "code",
   "execution_count": 42,
   "metadata": {},
   "outputs": [
    {
     "name": "stdout",
     "output_type": "stream",
     "text": [
      "Wolf(color='black', species='Wolf', number_of_legs=4)\n",
      "Sheep(color='white', species='Sheep', number_of_legs=4)\n",
      "Snake(color='brown', species='Snake', number_of_legs=0)\n",
      "Parrot(color='green', species='Parrot', number_of_legs=2)\n"
     ]
    }
   ],
   "source": [
    "from dataclasses import dataclass\n",
    "\n",
    "@dataclass\n",
    "class Animal:\n",
    "    color: str\n",
    "    species: str\n",
    "    number_of_legs: int\n",
    "    \n",
    "    def __repr__(self):\n",
    "        return f'{self.color} {self.species}, {self.number_of_legs} legs'\n",
    "\n",
    "@dataclass\n",
    "class Sheep(Animal):\n",
    "    species: str = 'Sheep'\n",
    "    number_of_legs: int = 4\n",
    "\n",
    "@dataclass\n",
    "class Wolf(Animal):\n",
    "    species: str = 'Wolf'\n",
    "    number_of_legs: int = 4\n",
    "\n",
    "@dataclass\n",
    "class Snake(Animal):\n",
    "    species: str = 'Snake'\n",
    "    number_of_legs: int = 0\n",
    "\n",
    "@dataclass\n",
    "class Parrot(Animal):\n",
    "    species: str = 'Parrot'\n",
    "    number_of_legs: int = 2\n",
    "\n",
    "wolf = Wolf('black')\n",
    "sheep = Sheep('white')\n",
    "snake = Snake('brown')\n",
    "parrot = Parrot('green')\n",
    "\n",
    "print(wolf)\n",
    "print(sheep)\n",
    "print(snake)\n",
    "print(parrot)\n"
   ]
  },
  {
   "cell_type": "markdown",
   "metadata": {},
   "source": [
    "### 44 Cages"
   ]
  },
  {
   "cell_type": "code",
   "execution_count": 43,
   "metadata": {},
   "outputs": [
    {
     "name": "stdout",
     "output_type": "stream",
     "text": [
      "1: Wolf(color='black', species='Wolf', number_of_legs=4), Sheep(color='white', species='Sheep', number_of_legs=4)\n",
      "2: Snake(color='brown', species='Snake', number_of_legs=0), Parrot(color='green', species='Parrot', number_of_legs=2)\n"
     ]
    }
   ],
   "source": [
    "from dataclasses import field\n",
    "from typing import List\n",
    "\n",
    "@dataclass\n",
    "class Cage:\n",
    "    identifier: int\n",
    "    animals: List[Animal] = field(default_factory=list)\n",
    "\n",
    "    def add_animals(self, *args):\n",
    "        self.animals += args\n",
    "\n",
    "    def __repr__(self):\n",
    "        return f'{self.identifier}: {\", \".join(str(animal) for animal in self.animals)}'\n",
    "\n",
    "wolf = Wolf('black')\n",
    "sheep = Sheep('white')\n",
    "snake = Snake('brown')\n",
    "parrot = Parrot('green')\n",
    " \n",
    "c1 = Cage(1)\n",
    "c1.add_animals(wolf, sheep)\n",
    " \n",
    "c2 = Cage(2)\n",
    "c2.add_animals(snake, parrot)\n",
    " \n",
    "print(c1)\n",
    "print(c2)"
   ]
  },
  {
   "cell_type": "markdown",
   "metadata": {},
   "source": [
    "### 45 Zoo"
   ]
  },
  {
   "cell_type": "code",
   "execution_count": 46,
   "metadata": {},
   "outputs": [
    {
     "name": "stdout",
     "output_type": "stream",
     "text": [
      "Cages: 1: Wolf(color='black', species='Wolf', number_of_legs=4), Sheep(color='white', species='Sheep', number_of_legs=4), 2: Snake(color='brown', species='Snake', number_of_legs=0), Parrot(color='green', species='Parrot', number_of_legs=2)\n",
      "[Sheep(color='white', species='Sheep', number_of_legs=4)]\n",
      "[Wolf(color='black', species='Wolf', number_of_legs=4), Sheep(color='white', species='Sheep', number_of_legs=4)]\n",
      "10\n"
     ]
    }
   ],
   "source": [
    "@dataclass\n",
    "class Zoo:\n",
    "    cages: List[Animal] = field(default_factory=list)\n",
    "\n",
    "    def add_cages(self, *args):\n",
    "        self.cages += args\n",
    "\n",
    "    def __repr__(self):\n",
    "        return f'Cages: {\", \".join(str(cage) for cage in self.cages)}'\n",
    "    \n",
    "    def animals_by_color(self, color):\n",
    "        return [animal for cage in self.cages for animal in cage.animals if animal.color == color]\n",
    "    \n",
    "    def animals_by_legs(self, legs):\n",
    "        return [animal for cage in self.cages for animal in cage.animals if animal.number_of_legs == legs]\n",
    "\n",
    "    def number_of_legs(self):\n",
    "        return sum(animal.number_of_legs for cage in self.cages for animal in cage.animals)\n",
    "\n",
    "z = Zoo()\n",
    "z.add_cages(c1, c2)\n",
    " \n",
    "print(z)\n",
    "print(z.animals_by_color('white'))\n",
    "print(z.animals_by_legs(4))\n",
    "print(z.number_of_legs())"
   ]
  }
 ],
 "metadata": {
  "kernelspec": {
   "display_name": "Python 3",
   "language": "python",
   "name": "python3"
  },
  "language_info": {
   "codemirror_mode": {
    "name": "ipython",
    "version": 3
   },
   "file_extension": ".py",
   "mimetype": "text/x-python",
   "name": "python",
   "nbconvert_exporter": "python",
   "pygments_lexer": "ipython3",
   "version": "3.9.1"
  },
  "orig_nbformat": 2
 },
 "nbformat": 4,
 "nbformat_minor": 2
}