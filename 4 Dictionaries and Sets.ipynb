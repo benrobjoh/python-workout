{
 "cells": [
  {
   "cell_type": "markdown",
   "metadata": {},
   "source": [
    "# Python Workout\n",
    "## Chapter 4: Dictionaries and sets\n",
    "\n",
    "2021-01-18"
   ]
  },
  {
   "cell_type": "markdown",
   "metadata": {},
   "source": [
    "### 14 Restaurant"
   ]
  },
  {
   "cell_type": "code",
   "execution_count": 2,
   "metadata": {},
   "outputs": [
    {
     "name": "stdout",
     "output_type": "stream",
     "text": [
      "Your total is 0\n"
     ]
    }
   ],
   "source": [
    "MENU = {\n",
    "    'sandwich': 10,\n",
    "    'tea': 7\n",
    "}\n",
    "\n",
    "def restaurant():\n",
    "    total = 0\n",
    "    while True:\n",
    "        order = input('Order: ').strip()\n",
    "        if order in MENU:\n",
    "            price = MENU[order]\n",
    "            total += price\n",
    "            print(f'{order} costs {price}, total is {total}')\n",
    "        elif not order:\n",
    "            print(f'Your total is {total}')\n",
    "            break\n",
    "        else:\n",
    "            print(f'Sorry, we are out of {order}')\n",
    "\n",
    "restaurant()\n"
   ]
  },
  {
   "cell_type": "markdown",
   "metadata": {},
   "source": [
    "### 15 Rainfall"
   ]
  },
  {
   "cell_type": "code",
   "execution_count": 5,
   "metadata": {},
   "outputs": [
    {
     "name": "stdout",
     "output_type": "stream",
     "text": [
      "seattle: 15\n",
      "boston: 9\n"
     ]
    }
   ],
   "source": [
    "def get_rainfall():\n",
    "    table = {}\n",
    "    while True:\n",
    "        city = input('City').strip()\n",
    "        if not city:\n",
    "            outputs = []\n",
    "            for name, rain in table.items():\n",
    "                outputs.append(f'{name}: {rain}')\n",
    "            print('\\n'.join(outputs))\n",
    "            break\n",
    "        else:\n",
    "            rainfall = input('Rainfall')\n",
    "            table[city] = table.get(city, 0) + int(rainfall)\n",
    "\n",
    "get_rainfall()"
   ]
  },
  {
   "cell_type": "markdown",
   "metadata": {},
   "source": [
    "### 16 Dictdiff"
   ]
  },
  {
   "cell_type": "code",
   "execution_count": 13,
   "metadata": {},
   "outputs": [
    {
     "name": "stdout",
     "output_type": "stream",
     "text": [
      "{'c': [3, 4]}\n"
     ]
    }
   ],
   "source": [
    "def dictdiff(first, second):\n",
    "    output = {}\n",
    "    all_keys = first.keys() | second.keys()\n",
    "    for key in all_keys:\n",
    "        first_value = first.get(key, None)\n",
    "        second_value = second.get(key, None)\n",
    "        if first_value != second_value:\n",
    "            output[key] = [first_value, second_value]\n",
    "    return output\n",
    "    \n",
    "d1 = {'a':1, 'b':2, 'c':3}\n",
    "d2 = {'a':1, 'b':2, 'c':4}\n",
    "print(dictdiff(d1, d2)) "
   ]
  },
  {
   "cell_type": "markdown",
   "metadata": {},
   "source": [
    "### 17 How many different numbers?"
   ]
  },
  {
   "cell_type": "code",
   "execution_count": 2,
   "metadata": {},
   "outputs": [
    {
     "name": "stdout",
     "output_type": "stream",
     "text": [
      "4\n"
     ]
    }
   ],
   "source": [
    "def how_many_different_numbers(numbers):\n",
    "    return len({*numbers})\n",
    "\n",
    "print(how_many_different_numbers([1, 2, 3, 1, 2, 3, 4, 1]))"
   ]
  }
 ],
 "metadata": {
  "kernelspec": {
   "display_name": "Python 3",
   "language": "python",
   "name": "python3"
  },
  "language_info": {
   "codemirror_mode": {
    "name": "ipython",
    "version": 3
   },
   "file_extension": ".py",
   "mimetype": "text/x-python",
   "name": "python",
   "nbconvert_exporter": "python",
   "pygments_lexer": "ipython3",
   "version": "3.9.1"
  },
  "orig_nbformat": 2
 },
 "nbformat": 4,
 "nbformat_minor": 2
}