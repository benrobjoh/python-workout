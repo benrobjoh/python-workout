{
 "cells": [
  {
   "cell_type": "markdown",
   "metadata": {},
   "source": [
    "# Python Workout\n",
    "## Chapter 10: Iterators and generators\n",
    "\n",
    "2021-01-24"
   ]
  },
  {
   "cell_type": "markdown",
   "metadata": {},
   "source": [
    "### 46 MyEnumerate"
   ]
  },
  {
   "cell_type": "code",
   "execution_count": 3,
   "metadata": {},
   "outputs": [
    {
     "name": "stdout",
     "output_type": "stream",
     "text": [
      "0 : a\n",
      "1 : b\n",
      "2 : c\n"
     ]
    }
   ],
   "source": [
    "class MyEnumerate:\n",
    "    def __init__(self, iterable):\n",
    "        self.i = 0\n",
    "        self.iterable = iterable\n",
    "\n",
    "    def __iter__(self):\n",
    "        return self\n",
    "    \n",
    "    def __next__(self):\n",
    "        if self.i >= len(self.iterable):\n",
    "            raise StopIteration\n",
    "        value = (self.i, self.iterable[self.i])\n",
    "        self.i += 1\n",
    "        return value\n",
    "\n",
    "for index, letter in MyEnumerate('abc'):\n",
    "    print(f'{index} : {letter}')"
   ]
  },
  {
   "cell_type": "markdown",
   "metadata": {},
   "source": [
    "### 47 Circle"
   ]
  },
  {
   "cell_type": "code",
   "execution_count": 4,
   "metadata": {},
   "outputs": [
    {
     "name": "stdout",
     "output_type": "stream",
     "text": [
      "['a', 'b', 'c', 'a', 'b']\n"
     ]
    }
   ],
   "source": [
    "from typing import Sequence\n",
    "\n",
    "\n",
    "class Circle:\n",
    "    def __init__(self, sequence, max_times):\n",
    "        self.sequence = sequence\n",
    "        self.max_times = max_times\n",
    "\n",
    "    def __iter__(self):\n",
    "        n = len(self.sequence)\n",
    "        return (self.sequence[x % n] for x in range(self.max_times))\n",
    "\n",
    "c = Circle('abc', 5)\n",
    "print(list(c))  "
   ]
  },
  {
   "cell_type": "markdown",
   "metadata": {},
   "source": [
    "### 48 All lines, all files"
   ]
  },
  {
   "cell_type": "code",
   "execution_count": 1,
   "metadata": {},
   "outputs": [],
   "source": [
    "import os\n",
    "\n",
    "def iterate_files(directory):\n",
    "    for name in os.listdir(directory):\n",
    "        path = os.path.join(directory, name)\n",
    "        try:\n",
    "            for line in open(path):\n",
    "                yield line\n",
    "        except OSError:\n",
    "            pass"
   ]
  },
  {
   "cell_type": "markdown",
   "metadata": {},
   "source": [
    "### 49 Elapsed since"
   ]
  },
  {
   "cell_type": "code",
   "execution_count": 4,
   "metadata": {},
   "outputs": [
    {
     "name": "stdout",
     "output_type": "stream",
     "text": [
      "(1275.837410708, 'a')\n",
      "(1277.842523416, 'b')\n",
      "(1279.848003458, 'c')\n",
      "(1281.853443916, 'd')\n"
     ]
    }
   ],
   "source": [
    "import time\n",
    "\n",
    "def time_generator(iterable):\n",
    "    for item in iterable:\n",
    "        yield (time.perf_counter(), item)\n",
    "\n",
    "for t in time_generator('abcd'):\n",
    "    print(t)\n",
    "    time.sleep(2)"
   ]
  },
  {
   "cell_type": "markdown",
   "metadata": {},
   "source": [
    "### 50 MyChain"
   ]
  },
  {
   "cell_type": "code",
   "execution_count": 6,
   "metadata": {},
   "outputs": [
    {
     "name": "stdout",
     "output_type": "stream",
     "text": [
      "a\n",
      "b\n",
      "c\n",
      "1\n",
      "2\n",
      "3\n",
      "a\n",
      "b\n"
     ]
    }
   ],
   "source": [
    "def mychain(*args):\n",
    "    for iteration in args:\n",
    "        for item in iteration:\n",
    "            yield item\n",
    "\n",
    "for one_item in mychain('abc', [1,2,3], {'a':1, 'b':2}):\n",
    "    print(one_item)"
   ]
  }
 ],
 "metadata": {
  "kernelspec": {
   "display_name": "Python 3",
   "language": "python",
   "name": "python3"
  },
  "language_info": {
   "codemirror_mode": {
    "name": "ipython",
    "version": 3
   },
   "file_extension": ".py",
   "mimetype": "text/x-python",
   "name": "python",
   "nbconvert_exporter": "python",
   "pygments_lexer": "ipython3",
   "version": "3.9.1"
  },
  "orig_nbformat": 2
 },
 "nbformat": 4,
 "nbformat_minor": 2
}