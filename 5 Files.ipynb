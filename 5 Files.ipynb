{
 "cells": [
  {
   "cell_type": "markdown",
   "metadata": {},
   "source": [
    "# Python Workout\n",
    "## Chapter 5: Files\n",
    "\n",
    "2021-01-23"
   ]
  },
  {
   "cell_type": "markdown",
   "metadata": {},
   "source": [
    "### 18 Final line"
   ]
  },
  {
   "cell_type": "code",
   "execution_count": 3,
   "metadata": {},
   "outputs": [
    {
     "name": "stdout",
     "output_type": "stream",
     "text": [
      "Third line\n",
      "\n"
     ]
    }
   ],
   "source": [
    "from io import StringIO\n",
    "\n",
    "fake = StringIO('''\n",
    "First line\n",
    "Second line\n",
    "Third line\n",
    "''')\n",
    "\n",
    "\n",
    "def get_final_line(file_path):\n",
    "    final = ''\n",
    "    for current in fake:\n",
    "        final = current\n",
    "    return final\n",
    "\n",
    "print(get_final_line('fake.txt'))"
   ]
  },
  {
   "cell_type": "markdown",
   "metadata": {},
   "source": [
    "### 19 /etc/passwd to dict"
   ]
  },
  {
   "cell_type": "code",
   "execution_count": 25,
   "metadata": {},
   "outputs": [
    {
     "name": "stdout",
     "output_type": "stream",
     "text": [
      "{'nobody': -2, 'root': 0, 'daemon': 1}\n"
     ]
    }
   ],
   "source": [
    "passwd = StringIO('''\n",
    "nobody:*:-2:-2::0:0:Unprivileged User:/var/empty:/usr/bin/false\n",
    "root:*:0:0::0:0:System Administrator:/var/root:/bin/sh\n",
    "daemon:*:1:1::0:0:System Services:/var/root:/usr/bin/false\n",
    "''')\n",
    "\n",
    "def passwd_to_dict(file_name):\n",
    "    mapping = {}\n",
    "    with passwd as lines:\n",
    "        for line in lines:\n",
    "            if not line.startswith(('#', '\\n')):\n",
    "                user = line.split(':')\n",
    "                mapping[user[0]] = int(user[2])\n",
    "    return mapping\n",
    "\n",
    "print(passwd_to_dict(passwd))"
   ]
  },
  {
   "cell_type": "markdown",
   "metadata": {},
   "source": [
    "### 20 Word count"
   ]
  },
  {
   "cell_type": "code",
   "execution_count": 36,
   "metadata": {},
   "outputs": [
    {
     "name": "stdout",
     "output_type": "stream",
     "text": [
      "Characters: 161\n",
      "Lines: 7\n",
      "Words: 28\n",
      "Unique Words: 20\n"
     ]
    }
   ],
   "source": [
    "sample = StringIO('''\n",
    "This is a test file.\n",
    "It contains 28 words and 20 different words.\n",
    "It also contains 165 characters.\n",
    "It also contains 11 lines.\n",
    "It is also self-referential.\n",
    "Wow!\n",
    "''')\n",
    "\n",
    "def wc(text):\n",
    "    characters = 0\n",
    "    lines = 0\n",
    "    words = 0\n",
    "    unique_words = set()\n",
    "    with sample as f:\n",
    "        for line in f:\n",
    "            characters += len(line)\n",
    "            lines += 1\n",
    "            words += len(line.split())\n",
    "            unique_words.update(line.split())\n",
    "    print(f'Characters: {characters}')\n",
    "    print(f'Lines: {lines}')\n",
    "    print(f'Words: {words}')\n",
    "    print(f'Unique Words: {len(unique_words)}')\n",
    "\n",
    "wc('No')\n",
    "\n"
   ]
  },
  {
   "cell_type": "markdown",
   "metadata": {},
   "source": [
    "### 21 Longest word per file"
   ]
  },
  {
   "cell_type": "code",
   "execution_count": 39,
   "metadata": {},
   "outputs": [
    {
     "name": "stdout",
     "output_type": "stream",
     "text": [
      "self-referential.\n"
     ]
    }
   ],
   "source": [
    "sample = StringIO('''\n",
    "It contains 28 words and 20 different words.\n",
    "It also contains 165 characters.\n",
    "It is also self-referential.\n",
    "Wow!\n",
    "''')\n",
    "\n",
    "def find_longest_word(file_name):\n",
    "    longest_word = ''\n",
    "    with sample as f:\n",
    "        for line in f:\n",
    "            words = line.split()\n",
    "            for word in words:\n",
    "                if len(word) > len(longest_word):\n",
    "                    longest_word = word\n",
    "    return longest_word\n",
    "\n",
    "import os\n",
    "\n",
    "def find_all_longest_words(directory):\n",
    "    return {file_name: find_longest_word(os.path.join(directory, file_name)) for file_name in os.listdir(directory) if os.path.isfile(os.path.join(directory, file_name))}\n",
    "\n",
    "print(find_longest_word('No'))"
   ]
  },
  {
   "cell_type": "markdown",
   "metadata": {},
   "source": [
    "### 22 Reading and writing CSV"
   ]
  },
  {
   "cell_type": "code",
   "execution_count": 53,
   "metadata": {},
   "outputs": [],
   "source": [
    "import csv\n",
    "\n",
    "passwd2 = StringIO('''\n",
    "root:*:0:0::0:0:System Administrator:/var/root:/bin/sh\n",
    "daemon:*:1:1::0:0:System Services:/var/root:/usr/bin/false\n",
    "# I am a comment line\n",
    "_ftp:*:98:-2::0:0:FTP Daemon:/var/empty:/usr/bin/false\n",
    "''')\n",
    "\n",
    "def passwd_to_csv(passwd_path, csv_path):\n",
    "    with passwd2 as lines:\n",
    "        with open('test.csv', 'w') as o:\n",
    "            writer = csv.writer(o, delimiter='\\t')\n",
    "            for line in lines:\n",
    "                if not line.startswith(('#', '\\n')):\n",
    "                    user = line.split(':')\n",
    "                    writer.writerow([user[0], user[2]])\n",
    "\n",
    "passwd_to_csv('Input', 'test.csv')"
   ]
  },
  {
   "cell_type": "markdown",
   "metadata": {},
   "source": [
    "### 23 JSON"
   ]
  },
  {
   "cell_type": "code",
   "execution_count": null,
   "metadata": {},
   "outputs": [],
   "source": [
    "scores = [{\"math\" : 90, \"literature\" : 98, \"science\" : 97},\n",
    " {\"math\" : 65, \"literature\" : 79, \"science\" : 85},\n",
    " {\"math\" : 78, \"literature\" : 83, \"science\" : 75},\n",
    " {\"math\" : 92, \"literature\" : 78, \"science\" : 85},\n",
    " {\"math\" : 100, \"literature\" : 80, \"science\" : 90}\n",
    "]\n",
    "\n",
    "def print_scores(scores):\n",
    "    pass"
   ]
  },
  {
   "cell_type": "markdown",
   "metadata": {},
   "source": [
    "### 24 Reverse lines"
   ]
  },
  {
   "cell_type": "code",
   "execution_count": 57,
   "metadata": {},
   "outputs": [
    {
     "name": "stdout",
     "output_type": "stream",
     "text": [
      "\n",
      "fed cba\n",
      "lkj ihg\n",
      "\n"
     ]
    }
   ],
   "source": [
    "text = StringIO('''\n",
    "abc def\n",
    "ghi jkl\n",
    "''')\n",
    "\n",
    "def reverse_lines(in_file, out_file):\n",
    "    output = ''\n",
    "    with text as i:\n",
    "        for line in i:\n",
    "            output += f'{line.rstrip()[::-1]}\\n'\n",
    "    return output\n",
    "\n",
    "print(reverse_lines('In', 'Out'))"
   ]
  },
  {
   "cell_type": "code",
   "execution_count": null,
   "metadata": {},
   "outputs": [],
   "source": []
  }
 ],
 "metadata": {
  "kernelspec": {
   "display_name": "Python 3",
   "language": "python",
   "name": "python3"
  },
  "language_info": {
   "codemirror_mode": {
    "name": "ipython",
    "version": 3
   },
   "file_extension": ".py",
   "mimetype": "text/x-python",
   "name": "python",
   "nbconvert_exporter": "python",
   "pygments_lexer": "ipython3",
   "version": "3.9.1"
  },
  "orig_nbformat": 2
 },
 "nbformat": 4,
 "nbformat_minor": 2
}