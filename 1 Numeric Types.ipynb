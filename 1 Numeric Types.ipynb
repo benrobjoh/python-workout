{
 "cells": [
  {
   "cell_type": "markdown",
   "metadata": {},
   "source": [
    "# Python Workout\n",
    "## Chapter 1: Numeric Types\n",
    "\n",
    "2021-01-16"
   ]
  },
  {
   "cell_type": "markdown",
   "metadata": {},
   "source": [
    "### 1 Number guessing game"
   ]
  },
  {
   "cell_type": "code",
   "execution_count": 2,
   "metadata": {},
   "outputs": [
    {
     "name": "stdout",
     "output_type": "stream",
     "text": [
      "Too low\n",
      "Too low\n",
      "Too low\n",
      "Too high\n",
      "Too low\n",
      "Too low\n",
      "Too low\n",
      "Too low\n",
      "Correct\n"
     ]
    }
   ],
   "source": [
    "import random\n",
    "\n",
    "def guessing_game():\n",
    "    number = random.randint(0, 100)\n",
    "    while True:\n",
    "        guess = int(input('Choose a number from 0 to 100:'))\n",
    "        if guess > number:\n",
    "            print('Too high')\n",
    "        elif guess < number:\n",
    "            print('Too low')\n",
    "        else:\n",
    "            print('Correct')\n",
    "            break\n",
    "\n",
    "guessing_game()"
   ]
  },
  {
   "cell_type": "markdown",
   "metadata": {},
   "source": [
    "### 2 Summing numbers"
   ]
  },
  {
   "cell_type": "code",
   "execution_count": 5,
   "metadata": {},
   "outputs": [
    {
     "data": {
      "text/plain": [
       "11"
      ]
     },
     "execution_count": 5,
     "metadata": {},
     "output_type": "execute_result"
    }
   ],
   "source": [
    "def mysum(*args):\n",
    "    total = 0\n",
    "    for number in args:\n",
    "        total += number\n",
    "    return total\n",
    "    \n",
    "mysum(1, 2, 3, 5)"
   ]
  },
  {
   "cell_type": "markdown",
   "metadata": {},
   "source": [
    "### 3 Run timing"
   ]
  },
  {
   "cell_type": "code",
   "execution_count": 12,
   "metadata": {},
   "outputs": [
    {
     "name": "stdout",
     "output_type": "stream",
     "text": [
      "Average of 15.0, over 3 runs\n"
     ]
    }
   ],
   "source": [
    "def run_timing():\n",
    "    iterations = 0\n",
    "    total_time = 0\n",
    "    while True:\n",
    "        time = input('Enter 10 km run time: ')\n",
    "        if not time:\n",
    "            print(f'Average of {total_time / iterations}, over {iterations} runs')\n",
    "            break\n",
    "        else:\n",
    "            total_time += float(time)\n",
    "            iterations += 1\n",
    "\n",
    "run_timing()"
   ]
  },
  {
   "cell_type": "markdown",
   "metadata": {},
   "source": [
    "### 4 Hexadecimal output"
   ]
  },
  {
   "cell_type": "code",
   "execution_count": 13,
   "metadata": {},
   "outputs": [
    {
     "data": {
      "text/plain": [
       "80"
      ]
     },
     "execution_count": 13,
     "metadata": {},
     "output_type": "execute_result"
    }
   ],
   "source": [
    "def hex_output():\n",
    "    hex = input('Enter hexidecimal: ')\n",
    "    decimal = 0\n",
    "    for index, digit in enumerate(reversed(hex)):\n",
    "        digit = int(digit, 16)\n",
    "        decimal += digit * 16 ** index\n",
    "    return decimal\n",
    "\n",
    "hex_output()"
   ]
  }
 ],
 "metadata": {
  "kernelspec": {
   "display_name": "Python 3",
   "language": "python",
   "name": "python3"
  },
  "language_info": {
   "codemirror_mode": {
    "name": "ipython",
    "version": 3
   },
   "file_extension": ".py",
   "mimetype": "text/x-python",
   "name": "python",
   "nbconvert_exporter": "python",
   "pygments_lexer": "ipython3",
   "version": "3.9.1"
  },
  "orig_nbformat": 2
 },
 "nbformat": 4,
 "nbformat_minor": 2
}
